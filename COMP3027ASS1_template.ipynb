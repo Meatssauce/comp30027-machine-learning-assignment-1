{
 "cells": [
  {
   "cell_type": "markdown",
   "metadata": {},
   "source": [
    "### The University of Melbourne, School of Computing and Information Systems\n",
    "# COMP30027 Machine Learning, 2022 Semester 1\n",
    "\n",
    "## Assignment 1: Naive Bayes Leaner for Adult Database\n"
   ]
  },
  {
   "cell_type": "markdown",
   "metadata": {},
   "source": [
    "**Student Name(s):** Zhehong Mason Zhang, Beijia Rebecca Lai\n",
    "<br>\n",
    "**Student ID(s):** 1085462, 1133768"
   ]
  },
  {
   "cell_type": "markdown",
   "metadata": {},
   "source": [
    "\n",
    "\n",
    "Marking will be applied on the four functions that are defined in this notebook, and to your responses to the questions at the end of this notebook.\n",
    "\n",
    "## General info\n",
    "\n",
    "<b>Due date</b>: Friday, 8 April 2022 7pm\n",
    "\n",
    "<b>Submission method</b>: Canvas submission\n",
    "\n",
    "<b>Submission materials</b>: This iPython notebook is a template which you will use for your Assignment 1 submission. You need to only submitted the completed copy of this iPython notebook.\n",
    "\n",
    "<b>Late submissions</b>: -10% per day up to 5 days (both weekdays and weekends count). Submissions more than 5 days late will not be accepted (resul in a mark of 0).\n",
    "<ul>\n",
    "    <li>one day late, -1.0;</li>\n",
    "    <li>two days late, -2.0;</li>\n",
    "    <li>three days late, -3.0;</li>\n",
    "    <li>four days late, -4.0;</li>\n",
    "    <li>five days late, -5.0;</li>\n",
    "</ul>\n",
    "\n",
    "<b>Extensions</b>: Students who are demonstrably unable to submit a full solution in time due to medical reasons or other trauma, may apply for an extension.  In these cases, you should email <a href=\"mailto:ni.ding@unimelb.edu.au\">Ni Ding</a> as soon as possible after those circumstances arise. If you attend a GP or other health care service as a result of illness, be sure to provide a Health Professional Report (HPR) form (get it from the Special Consideration section of the Student Portal), you will need this form to be filled out if your illness develops into something that later requires a Special Consideration application to be lodged. You should scan the HPR form and send it with the extension requests.\n",
    "\n",
    "<b>Marks</b>: This assignment will be marked out of 20, and make up 20% of your overall mark for this subject.\n",
    "\n",
    "<b>Materials</b>: Use Jupyter Notebook and Python page on Canvas for information on the basic setup required for this class, including an iPython notebook viewer and the python packages NLTK, Numpy, Scipy, Matplotlib, Scikit-Learn. You can use any Python built-in packages, but do not use any other 3rd party packages; if your iPython notebook doesn't run on the marker's machine, you will lose marks. <b> You should use Python 3</b>.  \n",
    "\n",
    "\n",
    "<b>Evaluation</b>: Your iPython notebook should run end-to-end without any errors in a reasonable amount of time, and you must follow all instructions provided below, including specific implementation requirements and instructions for what needs to be printed (please avoid printing output we don't ask for). You should edit the sections below where requested, but leave the rest of the code as is. You should leave the output from running your code in the iPython notebook you submit, to assist with marking. The amount each section is worth is given in parenthesis after the instructions. \n",
    "\n",
    "You will be marked not only on the correctness of your methods, but also the quality and efficency of your code: in particular, you should be careful to use Python built-in functions and operators when appropriate and pick descriptive variable names that adhere to <a href=\"https://www.python.org/dev/peps/pep-0008/\">Python style requirements</a>. If you think it might be unclear what you are doing, you should comment your code to help the marker make sense of it. We reserve the right to deduct up to 2 marks for unreadable or exessively inefficient code.\n",
    "\n",
    "8 of the marks available for this Project will be assigned to whether the four specified Python functions work in a manner consistent with the materials from COMP30027. Any other implementation will not be directly assessed (except insofar as it is required to make these five functions work correctly).\n",
    "\n",
    "12 of the marks will be assigned to your responses to the questions, in terms of both accuracy and insightfulness. We will be looking for evidence that you have an implementation that allows you to explore the problem, but also that you have thought deeply about the data and the behaviour of the Naive Bayes classifier.\n",
    "\n",
    "<b>Updates</b>: Any major changes to the assignment will be announced via Canvas. Minor changes and clarifications will be announced on the discussion board (ED -> Assignments -> A1); we recommend you check it regularly.\n",
    "\n",
    "<b>Academic misconduct</b>: For most people, collaboration will form a natural part of the undertaking of this homework, and we encourge you to discuss it in general terms with other students. However, this ultimately is still an individual task, and so reuse of code or other instances of clear influence will be considered cheating. Please check the <a href=\"https://canvas.lms.unimelb.edu.au/courses/124196/modules#module_662096\">CIS Academic Honesty training</a> for more information. We will be checking submissions for originality and will invoke the University’s <a href=\"http://academichonesty.unimelb.edu.au/policy.html\">Academic Misconduct policy</a> where inappropriate levels of collusion or plagiarism are deemed to have taken place.\n",
    "\n",
    "**IMPORTANT**\n",
    "\n",
    "Please carefully read and fill out the <b>Authorship Declaration</b> form at the bottom of the page. Failure to fill out this form results in the following deductions: \n",
    "<UL TYPE=”square”>\n",
    "<LI>missing Authorship Declaration at the bottom of the page, -5.0\n",
    "<LI>incomplete or unsigned Authorship Declaration at the bottom of the page, -3.0\n",
    "</UL>\n",
    "**NOTE: COMPLETE AND SUBMIT THIS FILE. YOU SHOULD IMPLEMENT FOUR FUNCTIONS AND INCLUDE YOUR ANSWERS TO THE QUESTIONS IN THIS FILE ONLY. NO OTHER SUBMISSION IS REQUIRED.**\n",
    "\n",
    "**Keep your code clean. Adding proper comments to your code is MANDATORY.**"
   ]
  },
  {
   "cell_type": "markdown",
   "metadata": {},
   "source": [
    "## Part 1: Base code [8 marks]\n",
    "\n",
    "Instructions\n",
    "1. Do **not** shuffle the data set\n",
    "2. Treat the attributes as they are(e.g., do **not** convert numeric attributes to categorical or categorical to numeric). Implement a Naive Bayes classifier with appropriate likelihood function for each attribute.\n",
    "3. You should implement the Naive Bayes classifier from scratch. Do **not** use existing implementations/learning algorithms.\n",
    "4. You CANNOT have more than one train or predict function. Both continuous numeric attributes and categorical ones should be trained in one `train()` function, similarly for the `predict()`.  \n",
    "5. Apart from the instructions in point 3, you may use libraries to help you with data reading, representation, maths or evaluation\n",
    "6. Ensure that all and only required information is printed, as indicated in the final three code cells. Failure to adhere to print the required information will result in **[-1 mark]** per case. *(We don't mind details like you print a list or several numbers -- just make sure the information is displayed so that it's easily accessible)\n",
    "7. You may change the prototypes of these functions, and you may write other functions, according to your requirements. We would appreciate it if the required functions were prominent/easy to find. \n",
    "8. You should add adequate comments to make your code easily comprehendible.*"
   ]
  },
  {
   "cell_type": "markdown",
   "metadata": {},
   "source": [
    "Imports"
   ]
  },
  {
   "cell_type": "code",
   "execution_count": 1,
   "metadata": {},
   "outputs": [],
   "source": [
    "import numpy as np\n",
    "import pandas as pd\n",
    "import matplotlib.pyplot as plt\n",
    "from sklearn.model_selection import train_test_split\n",
    "from sklearn.impute import SimpleImputer\n",
    "from sklearn.metrics import confusion_matrix\n",
    "from scipy.stats import norm\n",
    "from typing import Tuple\n",
    "\n",
    "import matplotlib.pyplot as plt\n",
    "# from pandas_profiling import ProfileReport"
   ]
  },
  {
   "cell_type": "code",
   "execution_count": null,
   "metadata": {},
   "outputs": [],
   "source": [
    "# x_is = np.array([1, 2, 3, 3, 3, 4, 4, 5, 7])\n",
    "# bandwidth = 5\n",
    "# norm.pdf(2 - x_is, 0, bandwidth).mean()"
   ]
  },
  {
   "cell_type": "code",
   "execution_count": 2,
   "metadata": {},
   "outputs": [],
   "source": [
    "class Trainable:\n",
    "    def __init__(self):\n",
    "        self._is_fitted = False\n",
    "\n",
    "    def fit(self, X, y=None):\n",
    "        self._is_fitted = True\n",
    "    \n",
    "    def _check_is_fitted(self):\n",
    "        if not self._is_fitted:\n",
    "            raise ValueError(\"The model is not fitted\")\n",
    "        \n",
    "        \n",
    "class KernelDensityEstimator(Trainable):\n",
    "    def __init__(self, bandwidth):\n",
    "        \"\"\"KDE for 1-D vectors\n",
    "\n",
    "        Args:\n",
    "            bandwidth (int): bandwitdh parameter for the kernel\n",
    "        \"\"\"\n",
    "        super().__init__()\n",
    "        self.bandwidth = bandwidth\n",
    "    \n",
    "    def fit(self, X: np.array):\n",
    "        super().fit(X)\n",
    "        self.x_is = X.reshape(-1)\n",
    "        return self\n",
    "    \n",
    "    def score_samples(self, X: np.array) -> np.array:\n",
    "        \"\"\"Returns log likelihood of each element in X\"\"\"\n",
    "        self._check_is_fitted()\n",
    "        log_kde = np.vectorize(lambda x: np.log(norm.pdf(x - self.x_is, 0, self.bandwidth).mean()))\n",
    "        return log_kde(X)\n",
    "    \n",
    "    # def _log_kde(self, x):\n",
    "    #     diff = norm.pdf(x - self.x_is, 0, self.bandwidth).mean()\n",
    "        \n",
    "\n",
    "\n",
    "class DiscretePDF(Trainable):\n",
    "    def  __init__(self, floor=1e-5, skip_val=None):\n",
    "        super().__init__()\n",
    "        self.floor = floor\n",
    "        self.skip_val = skip_val\n",
    "        self.log_probabilities = {}\n",
    "\n",
    "    def fit(self, X: np.array):\n",
    "        super().fit(X)\n",
    "        values, counts = np.unique(X, return_counts=True)\n",
    "        total = np.sum(counts)\n",
    "        self.log_probabilities = {v: p for v, p in zip(values, np.log(counts/total))}\n",
    "        if self.skip_val:\n",
    "            self.log_probabilities[self.skip_val] = 0\n",
    "        return self\n",
    "\n",
    "    def score_samples(self, X: np.array) -> np.array:\n",
    "        \"\"\"Returns log likelihood of each element in X\"\"\"\n",
    "        self._check_is_fitted()\n",
    "        return np.array([\n",
    "            self.log_probabilities[x] \n",
    "            if x in self.log_probabilities else np.log(self.floor)  # handle unseen cases\n",
    "            for x in X.reshape(-1)])\n",
    "\n",
    "\n",
    "class NormPDF(Trainable):\n",
    "    def  __init__(self):\n",
    "        super().__init__()\n",
    "        self.mean = None\n",
    "        self.std = None\n",
    "\n",
    "    def fit(self, X: np.array):\n",
    "        super().fit(X)\n",
    "        self.mean, self.std = norm.fit(X)\n",
    "        return self\n",
    "\n",
    "    def score_samples(self, X: np.array) -> np.array:\n",
    "        \"\"\"Returns log likelihood of each element in X\"\"\"\n",
    "        self._check_is_fitted()\n",
    "        return norm.logpdf(X.reshape(-1), self.mean, self.std)\n",
    "\n",
    "\n",
    "class NBClassifier(Trainable):\n",
    "    def __init__(self, bandwidth=1., use_kde=False, skip_val=None):\n",
    "        \"\"\"Navie bayes classifier for both numerical and categorical variables.\n",
    "\n",
    "        Args:\n",
    "            bandwidth (int, optional): bandwidth of KDE kernal. Defaults to None.\n",
    "            use_kde (bool, optional): whether classifier should use KDE over gaussain. Defaults to False.\n",
    "            skip_val (str, optional): skip attributes with this value when predicting. Defaults to None.\n",
    "        \"\"\"\n",
    "        super().__init__()\n",
    "        self.bandwidth = bandwidth\n",
    "        self.use_kde = use_kde\n",
    "        self.skip_val = skip_val\n",
    "\n",
    "        self.n_features = 0\n",
    "        self.classes = []\n",
    "        self.class_log_priors = None\n",
    "        self.log_conditional_distros = {}\n",
    "    \n",
    "    def fit(self, X: pd.DataFrame, y):\n",
    "        super().fit(X)\n",
    "        self.n_features = X.shape[1]\n",
    "        self.classes = np.unique(y).tolist()\n",
    "\n",
    "        self.class_log_priors = DiscretePDF().fit(y)\n",
    "        self._set_feature_log_proba(X, y)\n",
    "        return self\n",
    "\n",
    "    def _set_feature_log_proba(self, X: pd.DataFrame, y):\n",
    "        if not self.class_log_priors:\n",
    "            raise ValueError(\"No classes set\")\n",
    "        \n",
    "        numeric_cols = X.select_dtypes(include=np.number).columns\n",
    "        categorical_cols = X.select_dtypes(exclude=np.number).columns\n",
    "        \n",
    "        X['label'] = y\n",
    "        for class_, subset in X.groupby('label'):\n",
    "            # learn pdf of numeric features\n",
    "            self.log_conditional_distros[class_] = {\n",
    "                feature: KernelDensityEstimator(bandwidth=self.bandwidth).fit(subset[feature].to_numpy()) \n",
    "                if self.use_kde else NormPDF().fit(subset[feature].to_numpy()) \n",
    "                for feature in numeric_cols}\n",
    "            \n",
    "            # learn pdf of categorical features\n",
    "            self.log_conditional_distros[class_].update({\n",
    "                feature: DiscretePDF(skip_val=self.skip_val).fit(subset[feature].to_numpy()) \n",
    "                for feature in categorical_cols})\n",
    "        del X['label']\n",
    "\n",
    "    def predict(self, X: pd.DataFrame) -> Tuple[np.array, np.array]:\n",
    "        \"\"\"Returns predicted class and predicted log probability for each instance in X\"\"\"\n",
    "        self._check_is_fitted()\n",
    "        self._check_X(X)\n",
    "        \n",
    "        log_likelihoods = self._get_log_likelihoods(X)\n",
    "        max_indices = np.argmax(log_likelihoods, axis=1)\n",
    "        \n",
    "        predictions = np.array([self.classes[i] for i in max_indices])\n",
    "        pred_log_likelihoods = np.array([instance[i] for i, instance in zip(max_indices, log_likelihoods)])\n",
    "        \n",
    "        return predictions, pred_log_likelihoods\n",
    "\n",
    "    def _check_X(self, X):\n",
    "        if X.shape[1] != self.n_features:\n",
    "            return ValueError(\"Incompatible shape for X\")\n",
    "\n",
    "    def _get_log_likelihoods(self, X: pd.DataFrame) -> np.array:\n",
    "        log_likelihoods = []\n",
    "        \n",
    "        for class_ in self.classes:\n",
    "            log_prior = self.class_log_priors.score_samples(np.array([class_]).reshape(-1, 1))[0]\n",
    "            conditionals = np.stack([\n",
    "                self.log_conditional_distros[class_][feature].score_samples(X[feature].to_numpy()) \n",
    "                for feature in X.columns]).T\n",
    "            \n",
    "            log_postior = log_prior + np.sum(conditionals, axis=1)\n",
    "            log_likelihoods.append(log_postior)\n",
    "            \n",
    "        return np.array(log_likelihoods).T"
   ]
  },
  {
   "cell_type": "code",
   "execution_count": null,
   "metadata": {},
   "outputs": [],
   "source": [
    "# from sklearn.neighbors import KernelDensity\n",
    "\n",
    "# x_no = np.array([32.1, 19.5, 23.5])\n",
    "# kde = KernelDensity(bandwidth=5)\n",
    "# kde.fit(x_no.reshape(-1, 1))\n",
    "# log_l = kde.score_samples(np.array([15, 20]).reshape(-1, 1))\n",
    "\n",
    "# kde = KernelDensityEstimator(bandwidth=5)\n",
    "# kde.fit(x_no)\n",
    "# log_l2 = kde.score_samples([15, 20])\n",
    "\n",
    "# print(np.exp(log_l), np.exp(log_l2))\n"
   ]
  },
  {
   "cell_type": "code",
   "execution_count": 3,
   "metadata": {},
   "outputs": [],
   "source": [
    "# This function should prepare the data by reading it from a file and converting it into a useful format for training and testing\n",
    "# and implement 90-10 splitting as specified in the project description.\n",
    "def preprocess(filepath):\n",
    "    df = pd.read_csv(filepath)\n",
    "    train_data, test_data = train_test_split(df, test_size=0.1, shuffle=False)\n",
    "\n",
    "    # imputer = SimpleImputer(missing_values='?', strategy='constant', fill_value=-1)\n",
    "    # train_data = pd.DataFrame(imputer.fit_transform(train_data), index=train_data.index, columns=train_data.columns)\n",
    "    # test_data = pd.DataFrame(imputer.transform(test_data), index=test_data.index, columns=test_data.columns)\n",
    "\n",
    "    # numeric_cols = ['age', 'hours per week', 'education num']\n",
    "    # train_data[numeric_cols] = train_data[numeric_cols].apply(pd.to_numeric)\n",
    "    # test_data[numeric_cols] = test_data[numeric_cols].apply(pd.to_numeric)\n",
    "    \n",
    "    return train_data, test_data"
   ]
  },
  {
   "cell_type": "code",
   "execution_count": 4,
   "metadata": {},
   "outputs": [],
   "source": [
    "# This function should calculat prior probabilities and likelihoods (conditional probabilities) from the training data and using\n",
    "# to build a naive Bayes model\n",
    "\n",
    "def train(model, X, y):\n",
    "    return model.fit(X, y)"
   ]
  },
  {
   "cell_type": "code",
   "execution_count": 5,
   "metadata": {},
   "outputs": [],
   "source": [
    "# This function should predict classes for new items in the testing data\n",
    "\n",
    "def predict(model, X):\n",
    "    return model.predict(X)"
   ]
  },
  {
   "cell_type": "code",
   "execution_count": 6,
   "metadata": {},
   "outputs": [],
   "source": [
    "# This function should evaliate the prediction performance by comparing your model’s class outputs to ground\n",
    "# truth labels, return and output accuracy, confusion matrix and F1 score.\n",
    "\n",
    "def evaluate(model, X, y, labels=None):\n",
    "    y_pred, _ = model.predict(X)\n",
    "    tn, fp, fn, tp = confusion_matrix(y, y_pred, labels=labels).ravel()\n",
    "    # tn = fp = fn = tp = 0\n",
    "    # for label, y_pred_i in zip(y, y_pred):\n",
    "    #     positive, negative = ' <=50K', ' >50K'\n",
    "    #     if y_pred_i == positive == label:\n",
    "    #         tp += 1\n",
    "    #     elif y_pred_i == positive and label == negative:\n",
    "    #         fp += 1\n",
    "    #     elif y_pred_i == negative and label == positive:\n",
    "    #         fn += 1\n",
    "    #     elif y_pred_i == negative == label:\n",
    "    #         tn += 1\n",
    "\n",
    "    accuracy = (tp + tn) / (tp + fp + tn + fn)\n",
    "    matrix = np.array([[tp, fn], [fp, tn]])\n",
    "    f1 = tp / (tp + 0.5 * (fp + fn))\n",
    "\n",
    "    return accuracy, f1, matrix"
   ]
  },
  {
   "cell_type": "code",
   "execution_count": null,
   "metadata": {},
   "outputs": [],
   "source": [
    "# df = pd.read_csv('dataset/adult.csv')\n",
    "# profile = ProfileReport(df)\n",
    "# profile"
   ]
  },
  {
   "cell_type": "code",
   "execution_count": 7,
   "metadata": {},
   "outputs": [
    {
     "name": "stdout",
     "output_type": "stream",
     "text": [
      "accuracy: 0.86\n",
      "f1: 0.9078947368421053\n",
      "confusion matrix (true\\pred): \n",
      "[[69  8]\n",
      " [ 6 17]]\n",
      "\n",
      "Attribute vectors of instances [0, 1, 2]:  [[68 ' ?' ' 1st-4th' 2 ' Divorced' ' ?' ' Not-in-family' ' White'\n",
      "  ' Female' 20 ' United-States']\n",
      " [39 ' State-gov' ' Bachelors' 13 ' Never-married' ' Adm-clerical'\n",
      "  ' Not-in-family' ' White' ' Male' 40 ' United-States']\n",
      " [50 ' Self-emp-not-inc' ' Bachelors' 13 ' Married-civ-spouse'\n",
      "  ' Exec-managerial' ' Husband' ' White' ' Male' 13 ' United-States']]\n",
      "\n",
      "Number of instances (N):  1000\n",
      "Number of attributes (F):  11\n",
      "Number of labels (L):  2\n",
      "\n",
      "\n",
      "Predicted class log-probabilities for instance N-3:  -19.55129938976589\n",
      "Predicted class ID for instance N-3:   >50K\n",
      "\n",
      "Predicted class log-probabilities for instance N-2:  -22.7424671097164\n",
      "Predicted class ID for instance N-2:   >50K\n",
      "\n",
      "Predicted class log-probabilities for instance N-1:  -16.71139284635581\n",
      "Predicted class ID for instance N-1:   >50K\n"
     ]
    }
   ],
   "source": [
    "# This cell should act as your \"main\" function where you call the above functions \n",
    "# on the full ADULT data set, and print the evaluation results. [0.33 marks]\n",
    "\n",
    "\n",
    "\n",
    "# First, read in the data and apply your NB model to the ADULT data\n",
    "train_data, test_data = preprocess('dataset/adult.csv')\n",
    "X_train, y_train = train_data.drop(columns=['label']), train_data['label']\n",
    "X_test, y_test = test_data.drop(columns=['label']), test_data['label']\n",
    "\n",
    "# Should treat the missing value as a new category!!\n",
    "model = NBClassifier(bandwidth=2, use_kde=False) #, skip_val=' ?')\n",
    "model = train(model, X_train, y_train)\n",
    "y_pred, y_pred_proba = predict(model, X_test)\n",
    "# print(y_pred)\n",
    "\n",
    "# Second, print the full evaluation results from the evaluate() function\n",
    "labels = [' >50K', ' <=50K']  # neg, pos\n",
    "accuracy, f1, matrix = evaluate(model, X_test, y_test, labels)\n",
    "print(f'accuracy: {accuracy}')\n",
    "print(f'f1: {f1}')\n",
    "print('confusion matrix (true\\\\pred): ')\n",
    "print(matrix)\n",
    "\n",
    "# Third, print data statistics and model predictions, as instructed below \n",
    "# N is the total number of instances, F the total number of attributes, L the total number of labels\n",
    "# The \"class probabilities\" may be unnormalized\n",
    "# The \"predicted class ID\" must be in range (0, L)\n",
    "data = pd.concat([train_data, test_data], axis=0)\n",
    "\n",
    "print(\"\\nAttribute vectors of instances [0, 1, 2]: \", data.iloc[:3, :-1].values) # of the first three records in adult.csv\n",
    "\n",
    "print(\"\\nNumber of instances (N): \", len(data))\n",
    "print(\"Number of attributes (F): \", data.shape[1] - 1)\n",
    "print(\"Number of labels (L): \", len(data['label'].unique()))\n",
    "\n",
    "# print out the prediction results of the last three instances\n",
    "print(\"\\n\\nPredicted class log-probabilities for instance N-3: \", y_pred_proba[-3])\n",
    "print(\"Predicted class ID for instance N-3: \", y_pred[-3])\n",
    "print(\"\\nPredicted class log-probabilities for instance N-2: \", y_pred_proba[-2])\n",
    "print(\"Predicted class ID for instance N-2: \", y_pred[-2])\n",
    "print(\"\\nPredicted class log-probabilities for instance N-1: \", y_pred_proba[-1])\n",
    "print(\"Predicted class ID for instance N-1: \", y_pred[-1])\n"
   ]
  },
  {
   "cell_type": "markdown",
   "metadata": {},
   "source": [
    "## Part 2: Conceptual questions [8 marks for groups of 1] / [16 marks for groups of 2]\n",
    "\n",
    "\n",
    "If you are in a group of 1, you should respond to Q1 and Q2.\n",
    "\n",
    "If you are in a group of 2, you should respond to Q1, Q2, Q3 and Q4.\n",
    "\n",
    "A response to a question should take about 100–250 words. You may need to develope codes or functions to help respond to the question here. \n",
    "\n",
    "#### NOTE: We strongly recommend <u>including figures or tables, etc.</u> to support your responses. The figures and tables inserted in Markdown cells must be reproducable by your code."
   ]
  },
  {
   "cell_type": "markdown",
   "metadata": {},
   "source": [
    "### Q1 [4 marks]\n",
    "<u>Sensitivity</u> and <u>specificity</u> are two model evaluation metrics.  A good model should have both sensitivity and specificity high. Use the $2 \\times 2$ confusion matrix returned by `evaluate()` to calculate the sensitivity and specificity. Do you see a difference between them? If so, what causes this difference? Provide suggestions to improve the model performance. "
   ]
  },
  {
   "cell_type": "code",
   "execution_count": 8,
   "metadata": {},
   "outputs": [
    {
     "name": "stdout",
     "output_type": "stream",
     "text": [
      "sensitivity: 0.8961038961038961\n",
      "specificity: 0.7391304347826086\n",
      "actual positives: 692, actual negatives: 208\n"
     ]
    }
   ],
   "source": [
    "tp, fn, fp, tn = matrix.ravel()\n",
    "\n",
    "sensitivity = tp / (tp + fn)  # recall\n",
    "specificity = tn / (tn + fp)  # recall but for negatives\n",
    "print(f'sensitivity: {sensitivity}\\nspecificity: {specificity}')\n",
    "\n",
    "print(f\"actual positives: {train_data[train_data['label'] == ' <=50K'].shape[0]}, actual negatives: {train_data[train_data['label'] != ' <=50K'].shape[0]}\")\n"
   ]
  },
  {
   "cell_type": "markdown",
   "metadata": {},
   "source": [
    "Sensitivity is the proportion of true positive (<=50K) instances the model detected; on the other hand, specificity is the proportion of true negative (>50K) instances the model detected. The difference is that sensitivity is greater than specificity, this could be due to having more positive instances than negative instances in the training data. To improve the model performance, we can construct a more balanced training dataset or use sample weights or use data augmentation."
   ]
  },
  {
   "cell_type": "markdown",
   "metadata": {},
   "source": [
    "### Q2 [4 marks]\n",
    "You can adopt different methods for training and/or testing, which will produce different results in model evaluation. \n",
    "\n",
    "(a) Instead of Gaussian, <u>implement KDE</u> for  $P(X_i|c_j)$ for numeric attributes $X_i$. Compare the evaluation results with Gaussian. Which one do you think is more suitable to model $P(X_i|c_j)$, Gaussian or KDE? Observe all numeric attributes and justify your answer.\n",
    "\n",
    "You can choose an arbitrary value for kernel bandwidth $\\sigma$ for KDE, but a value between 3 and 15 is recommended. You should write code to implement KDE, not call an existing function/method such as `KernelDensity` from `scikit-learn`.\n",
    "\n",
    "(b) Implement <u>10-fold and 2-fold cross-validations</u>.  \n",
    "\tObserve the evaluation results in each fold and the average accuracy, recall and specificity over all folds. \n",
    "\tComment on what is the effect by changing the values of $m$ in $m$-fold cross validation. (You can choose either Gaussian or KDE Naive Bayes.)"
   ]
  },
  {
   "cell_type": "code",
   "execution_count": 12,
   "metadata": {},
   "outputs": [
    {
     "name": "stdout",
     "output_type": "stream",
     "text": [
      "accuracy: 0.86\n",
      "f1: 0.9066666666666666\n",
      "confusion matrix (true\\pred): \n",
      "[[68  9]\n",
      " [ 5 18]]\n"
     ]
    }
   ],
   "source": [
    "# (a) NBClassifier with KDE\n",
    "\n",
    "train_data, test_data = preprocess('dataset/adult.csv')\n",
    "X_train, y_train = train_data.drop(columns=['label']), train_data['label']\n",
    "X_test, y_test = test_data.drop(columns=['label']), test_data['label']\n",
    "    \n",
    "model = NBClassifier(bandwidth=3, use_kde=True)\n",
    "model = train(model, X_train, y_train)\n",
    "y_pred, y_pred_proba = predict(model, X_test)\n",
    "\n",
    "labels = [' >50K', ' <=50K']  # neg, pos\n",
    "accuracy, f1, matrix = evaluate(model, X_test, y_test, labels)\n",
    "print(f'accuracy: {accuracy}')\n",
    "print(f'f1: {f1}')\n",
    "print('confusion matrix (true\\\\pred): ')\n",
    "print(matrix)"
   ]
  },
  {
   "cell_type": "code",
   "execution_count": null,
   "metadata": {},
   "outputs": [],
   "source": [
    "# (b) M-fold Cross Validation\n",
    "\n",
    "def cross_validate(model, data, cv):\n",
    "    splits = np.array_split(data, cv)\n",
    "    cv_results = []\n",
    "    for i in range(cv):\n",
    "        train_data, test_data = pd.concat(splits[:i] + splits[i+1:]), splits[i]\n",
    "        X_train, y_train = train_data.drop(columns=['label']), train_data['label']\n",
    "        X_test, y_test = test_data.drop(columns=['label']), test_data['label']\n",
    "\n",
    "        model = train(model, X_train, y_train)\n",
    "        y_pred, y_pred_proba = predict(model, X_test)\n",
    "\n",
    "        accuracy, f1, matrix = evaluate(model, X_test, y_test, labels)\n",
    "\n",
    "        tp, fn, fp, tn = matrix.ravel()\n",
    "        sensitivity = tp / (tp + fn)\n",
    "        specificity = tn / (tn + fp)\n",
    "\n",
    "        cv_results.append((accuracy, sensitivity, specificity))\n",
    "\n",
    "    return np.mean(cv_results, axis=0)\n"
   ]
  },
  {
   "cell_type": "code",
   "execution_count": null,
   "metadata": {},
   "outputs": [],
   "source": [
    "data = pd.read_csv(\"dataset/adult.csv\")\n",
    "model = NBClassifier(bandwidth=2, use_kde=False)\n",
    "\n",
    "cvs = range(2, 11)\n",
    "cv_results = [cross_validate(model, data, cv) for cv in cvs]\n",
    "cv_results = np.array(cv_results)\n",
    "\n",
    "print('2-fold cross validation')\n",
    "accuracy, sensitivity, specificity = cv_results[0]\n",
    "print(f'accuracy: {accuracy}\\nsensitivity: {sensitivity}\\nspecificity: {specificity}\\n')\n",
    "\n",
    "print('10-fold cross validation')\n",
    "accuracy, sensitivity, specificity = cv_results[-1]\n",
    "print(f'accuracy: {accuracy}\\nsensitivity: {sensitivity}\\nspecificity: {specificity}')\n",
    "\n",
    "cv_results = np.array(cv_results)\n",
    "plt.xlabel('cv')\n",
    "plt.plot(cvs, cv_results[:,0], label=\"accuracy\")\n",
    "plt.plot(cvs, cv_results[:,1], label=\"sensitivity\")\n",
    "plt.plot(cvs, cv_results[:,2], label=\"specificity\")\n",
    "plt.legend()\n",
    "plt.show()"
   ]
  },
  {
   "cell_type": "markdown",
   "metadata": {
    "jupyter": {
     "outputs_hidden": true
    }
   },
   "source": [
    "Provide your text answer of 150-200 words in this cell."
   ]
  },
  {
   "cell_type": "markdown",
   "metadata": {},
   "source": [
    "(a) Since the numerical columns don't closely follow the bell shaped Gaussian distribution, we predict that the KDE model should fit all numerical data better, but the choice of band width is important. From the result above, our KDE model with bandwidth=15 leads to overfitting and generalizes less well on the test data.\n",
    "\n",
    "(b) From the graph above, we observe that as the value of m increases, the average accuracy of the m-fold cross validation slightly decreases. Since more folds means a larger training dataset and a smaller testing dataset in each iteration, we expect the the average accuracy to be less biased and closer to the true accuracy which could mean an increase or decrease depending on the dataset and the model applied. Since more folds means more iterations, we also expect the function to take longer to execute."
   ]
  },
  {
   "cell_type": "markdown",
   "metadata": {},
   "source": [
    "### Q3 [4 marks]\n",
    "In `train()`, you are asked to treat the missing value of nominal attributes as a new category. There is another option (as suggested in Thu lecture in week 2): <u>ignoring the missing values</u>. \n",
    "Compare the two methods in both large and small datasets. Comment and explain your observations.\n",
    "You can extract the first 50 records to construct a small dataset.Use Gaussian Naive Bayes only for this question."
   ]
  },
  {
   "cell_type": "code",
   "execution_count": 21,
   "metadata": {},
   "outputs": [
    {
     "data": {
      "image/png": "[encoded data removed]",
      "text/plain": [
       "<Figure size 432x288 with 1 Axes>"
      ]
     },
     "metadata": {
      "needs_background": "light"
     },
     "output_type": "display_data"
    },
    {
     "data": {
      "image/png": "[encoded data removed]",
      "text/plain": [
       "<Figure size 432x288 with 1 Axes>"
      ]
     },
     "metadata": {
      "needs_background": "light"
     },
     "output_type": "display_data"
    }
   ],
   "source": [
    "# Write additional code here, if necessary (you may insert additional code cells)\n",
    "# compare the methods in different size datasets\n",
    "def train_test_evaluate(df, df_size):\n",
    "    sub_df = df.iloc[:df_size,:]\n",
    "    train_data, test_data = train_test_split(sub_df, test_size=0.1, shuffle=False)\n",
    "    X_train, y_train = train_data.drop(columns=['label']), train_data['label']\n",
    "    X_test, y_test = test_data.drop(columns=['label']), test_data['label']\n",
    "    # method 1 = treat as new category vs method 2 = ignore missing values\n",
    "    results = []\n",
    "    for ignore_missing in [False, True]:\n",
    "        if ignore_missing:\n",
    "            model = NBClassifier(skip_val=' ?')\n",
    "        else:\n",
    "            model = NBClassifier()\n",
    "        model = train(model, X_train, y_train)\n",
    "        accuracy, _, _ = evaluate(model, X_test, y_test)\n",
    "        results.append(accuracy)\n",
    "    return results\n",
    "\n",
    "df = pd.read_csv('dataset/adult.csv')\n",
    "df_shuffled = pd.read_csv('dataset/adult.csv').sample(frac=1)\n",
    "for s_df in [df, df_shuffled]:\n",
    "    results = []\n",
    "    sizes = range(50, 1001, 50)\n",
    "    for df_size in sizes:\n",
    "        results.append(train_test_evaluate(s_df, df_size))\n",
    "    results = np.array(results)\n",
    "    plt.xlabel(\"dataset size\")\n",
    "    plt.ylabel(\"accuracy\")\n",
    "    plt.plot(sizes, results[:,0], label=\"treat as new category\")\n",
    "    plt.plot(sizes, results[:,1], label=\"ignore missing values\")\n",
    "    plt.legend()\n",
    "    plt.show()\n"
   ]
  },
  {
   "cell_type": "markdown",
   "metadata": {},
   "source": [
    "Provide your text answer of 150-200 words in this cell.\n",
    "Let method1 = treat as new category and method2 = ignore missing values. From the first graph, there appears to be not much difference between method1 and method2 in smaller datasets with <500 instances, but method1 performs better compared to method2 in larger datasets with >=500 instances. The better performance can be due to the nominal attributes missing not at random, in other words, method1 uses the informative missing data to further improve its model. However, we cannot explain its relationship with the dataset size. After further investigation, we found out that this is simply caused by the order of instances in the original dataset. After shuffling the dataset, model1 outperforms model2 consistently over different dataset sizes."
   ]
  },
  {
   "cell_type": "markdown",
   "metadata": {},
   "source": [
    "### Q4 [4 marks]\n",
    "In week 4, we have learned how to obtain information gain (IG) and gain ratio (GR) to choose an attribute to split a node in a decision tree. We will see how to apply them in the Naive Bayes classification.\n",
    "\n",
    "(a) Compute the GR of each attribute $X_i$, relative to the class Trainable. In the Na\\\"ive Bayes classifier, remove attributes in the ascending order of GR: first, remove $P(X_i|c_j)$ such that $X_i$ has the least GR; second, remove $P(X_{i'}|c_j)$ such that $X_{i'}$ has the second least GR,......, until there is only one $X_{i*}$ with the largest GR remaining in the maximand $P(c_j) P(X_{i^*} | c_j)$. Observe the <u>change of the accuracy for both Gaussian and KDE</u> (Choose bandwidth $\\sigma=10$ for KDE).\n",
    "\n",
    "(b) Compute the IG between each pair of attributes. Describe and explain your observations. Choose an attribute and implement an estimator to predict the value of `education num`. Explain why you choose this attribute. Enumerate two other examples that an attribute can be used to estimate the other and explain the reason.  "
   ]
  },
  {
   "cell_type": "code",
   "execution_count": null,
   "metadata": {},
   "outputs": [],
   "source": [
    "# Write additional code here, if necessary (you may insert additional code cells)"
   ]
  },
  {
   "cell_type": "markdown",
   "metadata": {},
   "source": [
    "### (a)"
   ]
  },
  {
   "cell_type": "markdown",
   "metadata": {},
   "source": [
    "Provide your text answer to **Question 4.a** of 100-150 words in this cell."
   ]
  },
  {
   "cell_type": "markdown",
   "metadata": {},
   "source": [
    "### (b)"
   ]
  },
  {
   "cell_type": "markdown",
   "metadata": {},
   "source": [
    "Provide your text answer to **Question 4.b** of 150-200 words in this cell."
   ]
  },
  {
   "cell_type": "markdown",
   "metadata": {},
   "source": [
    "<b>Authorship Declaration</b>:\n",
    "\n",
    "   (1) I certify that the program contained in this submission is completely\n",
    "   my own individual work, except where explicitly noted by comments that\n",
    "   provide details otherwise.  I understand that work that has been developed\n",
    "   by another student, or by me in collaboration with other students,\n",
    "   or by non-students as a result of request, solicitation, or payment,\n",
    "   may not be submitted for assessment in this subject.  I understand that\n",
    "   submitting for assessment work developed by or in collaboration with\n",
    "   other students or non-students constitutes Academic Misconduct, and\n",
    "   may be penalized by mark deductions, or by other penalties determined\n",
    "   via the University of Melbourne Academic Honesty Policy, as described\n",
    "   at https://academicintegrity.unimelb.edu.au.\n",
    "\n",
    "   (2) I also certify that I have not provided a copy of this work in either\n",
    "   softcopy or hardcopy or any other form to any other student, and nor will\n",
    "   I do so until after the marks are released. I understand that providing\n",
    "   my work to other students, regardless of my intention or any undertakings\n",
    "   made to me by that other student, is also Academic Misconduct.\n",
    "\n",
    "   (3) I further understand that providing a copy of the assignment\n",
    "   specification to any form of code authoring or assignment tutoring\n",
    "   service, or drawing the attention of others to such services and code\n",
    "   that may have been made available via such a service, may be regarded\n",
    "   as Student General Misconduct (interfering with the teaching activities\n",
    "   of the University and/or inciting others to commit Academic Misconduct).\n",
    "   I understand that an allegation of Student General Misconduct may arise\n",
    "   regardless of whether or not I personally make use of such solutions\n",
    "   or sought benefit from such actions.\n",
    "\n",
    "   <b>Signed by</b>:  Zhehong Mason Zhang 1085462, Beijia Rebecca Lai 1133768\n",
    "   \n",
    "   <b>Dated</b>: 08/04/2022"
   ]
  }
 ],
 "metadata": {
  "kernelspec": {
   "display_name": "Python 3 (ipykernel)",
   "language": "python",
   "name": "python3"
  },
  "language_info": {
   "codemirror_mode": {
    "name": "ipython",
    "version": 3
   },
   "file_extension": ".py",
   "mimetype": "text/x-python",
   "name": "python",
   "nbconvert_exporter": "python",
   "pygments_lexer": "ipython3",
   "version": "3.8.12"
  }
 },
 "nbformat": 4,
 "nbformat_minor": 4
}
