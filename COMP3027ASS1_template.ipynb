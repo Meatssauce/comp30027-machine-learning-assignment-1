{
 "cells": [
  {
   "cell_type": "markdown",
   "metadata": {},
   "source": [
    "### The University of Melbourne, School of Computing and Information Systems\n",
    "# COMP30027 Machine Learning, 2022 Semester 1\n",
    "\n",
    "## Assignment 1: Naive Bayes Leaner for Adult Database\n"
   ]
  },
  {
   "cell_type": "markdown",
   "metadata": {},
   "source": [
    "**Student Name(s):** Beijia Rebecca Lai <br>\n",
    "**Student ID(s):** 1133768"
   ]
  },
  {
   "cell_type": "markdown",
   "metadata": {},
   "source": [
    "\n",
    "\n",
    "Marking will be applied on the four functions that are defined in this notebook, and to your responses to the questions at the end of this notebook.\n",
    "\n",
    "## General info\n",
    "\n",
    "<b>Due date</b>: Friday, 8 April 2022 7pm\n",
    "\n",
    "<b>Submission method</b>: Canvas submission\n",
    "\n",
    "<b>Submission materials</b>: This iPython notebook is a template which you will use for your Assignment 1 submission. You need to only submitted the completed copy of this iPython notebook.\n",
    "\n",
    "<b>Late submissions</b>: -10% per day up to 5 days (both weekdays and weekends count). Submissions more than 5 days late will not be accepted (resul in a mark of 0).\n",
    "<ul>\n",
    "    <li>one day late, -1.0;</li>\n",
    "    <li>two days late, -2.0;</li>\n",
    "    <li>three days late, -3.0;</li>\n",
    "    <li>four days late, -4.0;</li>\n",
    "    <li>five days late, -5.0;</li>\n",
    "</ul>\n",
    "\n",
    "<b>Extensions</b>: Students who are demonstrably unable to submit a full solution in time due to medical reasons or other trauma, may apply for an extension.  In these cases, you should email <a href=\"mailto:ni.ding@unimelb.edu.au\">Ni Ding</a> as soon as possible after those circumstances arise. If you attend a GP or other health care service as a result of illness, be sure to provide a Health Professional Report (HPR) form (get it from the Special Consideration section of the Student Portal), you will need this form to be filled out if your illness develops into something that later requires a Special Consideration application to be lodged. You should scan the HPR form and send it with the extension requests.\n",
    "\n",
    "<b>Marks</b>: This assignment will be marked out of 20, and make up 20% of your overall mark for this subject.\n",
    "\n",
    "<b>Materials</b>: Use Jupyter Notebook and Python page on Canvas for information on the basic setup required for this class, including an iPython notebook viewer and the python packages NLTK, Numpy, Scipy, Matplotlib, Scikit-Learn. You can use any Python built-in packages, but do not use any other 3rd party packages; if your iPython notebook doesn't run on the marker's machine, you will lose marks. <b> You should use Python 3</b>.  \n",
    "\n",
    "\n",
    "<b>Evaluation</b>: Your iPython notebook should run end-to-end without any errors in a reasonable amount of time, and you must follow all instructions provided below, including specific implementation requirements and instructions for what needs to be printed (please avoid printing output we don't ask for). You should edit the sections below where requested, but leave the rest of the code as is. You should leave the output from running your code in the iPython notebook you submit, to assist with marking. The amount each section is worth is given in parenthesis after the instructions. \n",
    "\n",
    "You will be marked not only on the correctness of your methods, but also the quality and efficency of your code: in particular, you should be careful to use Python built-in functions and operators when appropriate and pick descriptive variable names that adhere to <a href=\"https://www.python.org/dev/peps/pep-0008/\">Python style requirements</a>. If you think it might be unclear what you are doing, you should comment your code to help the marker make sense of it. We reserve the right to deduct up to 2 marks for unreadable or exessively inefficient code.\n",
    "\n",
    "8 of the marks available for this Project will be assigned to whether the four specified Python functions work in a manner consistent with the materials from COMP30027. Any other implementation will not be directly assessed (except insofar as it is required to make these five functions work correctly).\n",
    "\n",
    "12 of the marks will be assigned to your responses to the questions, in terms of both accuracy and insightfulness. We will be looking for evidence that you have an implementation that allows you to explore the problem, but also that you have thought deeply about the data and the behaviour of the Naive Bayes classifier.\n",
    "\n",
    "<b>Updates</b>: Any major changes to the assignment will be announced via Canvas. Minor changes and clarifications will be announced on the discussion board (ED -> Assignments -> A1); we recommend you check it regularly.\n",
    "\n",
    "<b>Academic misconduct</b>: For most people, collaboration will form a natural part of the undertaking of this homework, and we encourge you to discuss it in general terms with other students. However, this ultimately is still an individual task, and so reuse of code or other instances of clear influence will be considered cheating. Please check the <a href=\"https://canvas.lms.unimelb.edu.au/courses/124196/modules#module_662096\">CIS Academic Honesty training</a> for more information. We will be checking submissions for originality and will invoke the University’s <a href=\"http://academichonesty.unimelb.edu.au/policy.html\">Academic Misconduct policy</a> where inappropriate levels of collusion or plagiarism are deemed to have taken place.\n",
    "\n",
    "**IMPORTANT**\n",
    "\n",
    "Please carefully read and fill out the <b>Authorship Declaration</b> form at the bottom of the page. Failure to fill out this form results in the following deductions: \n",
    "<UL TYPE=”square”>\n",
    "<LI>missing Authorship Declaration at the bottom of the page, -5.0\n",
    "<LI>incomplete or unsigned Authorship Declaration at the bottom of the page, -3.0\n",
    "</UL>\n",
    "**NOTE: COMPLETE AND SUBMIT THIS FILE. YOU SHOULD IMPLEMENT FOUR FUNCTIONS AND INCLUDE YOUR ANSWERS TO THE QUESTIONS IN THIS FILE ONLY. NO OTHER SUBMISSION IS REQUIRED.**\n",
    "\n",
    "**Keep your code clean. Adding proper comments to your code is MANDATORY.**"
   ]
  },
  {
   "cell_type": "markdown",
   "metadata": {},
   "source": [
    "## Part 1: Base code [8 marks]\n",
    "\n",
    "Instructions\n",
    "1. Do **not** shuffle the data set\n",
    "2. Treat the attributes as they are(e.g., do **not** convert numeric attributes to categorical or categorical to numeric). Implement a Naive Bayes classifier with appropriate likelihood function for each attribute.\n",
    "3. You should implement the Naive Bayes classifier from scratch. Do **not** use existing implementations/learning algorithms.\n",
    "4. You CANNOT have more than one train or predict function. Both continuous numeric attributes and categorical ones should be trained in one `train()` function, similarly for the `predict()`.  \n",
    "5. Apart from the instructions in point 3, you may use libraries to help you with data reading, representation, maths or evaluation\n",
    "6. Ensure that all and only required information is printed, as indicated in the final three code cells. Failure to adhere to print the required information will result in **[-1 mark]** per case. *(We don't mind details like you print a list or several numbers -- just make sure the information is displayed so that it's easily accessible)\n",
    "7. You may change the prototypes of these functions, and you may write other functions, according to your requirements. We would appreciate it if the required functions were prominent/easy to find. \n",
    "8. You should add adequate comments to make your code easily comprehendible.*"
   ]
  },
  {
   "cell_type": "code",
   "execution_count": 1,
   "metadata": {},
   "outputs": [],
   "source": [
    "import pandas as pd\n",
    "import numpy as np\n",
    "import matplotlib.pyplot as plt\n",
    "from collections import Counter\n",
    "from sklearn.metrics import confusion_matrix\n",
    "from sklearn.model_selection import train_test_split\n",
    "from statistics import NormalDist"
   ]
  },
  {
   "cell_type": "code",
   "execution_count": 2,
   "metadata": {},
   "outputs": [],
   "source": [
    "# This function should prepare the data by reading it from a file and converting it into a useful format for training and testing\n",
    "# and implement 90-10 splitting as specified in the project description.\n",
    "def preprocess(filepath):\n",
    "    df = pd.read_csv(filepath)\n",
    "    return train_test_split(df, test_size=0.1, shuffle=False)"
   ]
  },
  {
   "cell_type": "code",
   "execution_count": 3,
   "metadata": {},
   "outputs": [],
   "source": [
    "# This function should calculat prior probabilities and likelihoods (conditional probabilities) from the training data and using\n",
    "# to build a naive Bayes model\n",
    "def train(df, ignore_missing):\n",
    "    prior_probs = {}\n",
    "    conditional_dists = {}\n",
    "\n",
    "    nominal_atts = df.select_dtypes(exclude=np.number)\n",
    "    numeric_atts = df.select_dtypes(include=np.number)\n",
    "\n",
    "    for label, label_df in df.groupby('label'):\n",
    "        prior_probs[label] = len(label_df) / len(df)\n",
    "\n",
    "        for att in nominal_atts:\n",
    "            att_counter = Counter(label_df[att])\n",
    "            if ignore_missing and ' ?' in att_counter:\n",
    "                del att_counter[' ?']\n",
    "            conditional_dists[(att, label)] = {x: att_counter[x] / len(label_df) for x in att_counter}\n",
    "        \n",
    "        for att in numeric_atts:\n",
    "            mean = label_df[att].mean()\n",
    "            std = label_df[att].std()\n",
    "            conditional_dists[(att, label)] = lambda x: NormalDist(mean, std).pdf(x)\n",
    "\n",
    "    return prior_probs, conditional_dists"
   ]
  },
  {
   "cell_type": "code",
   "execution_count": 4,
   "metadata": {},
   "outputs": [],
   "source": [
    "# This function should predict classes for new items in the testing data\n",
    "def predict(X, labels, prior_probs, conditional_dists):\n",
    "    pred_prob = []\n",
    "    y_pred = []\n",
    "    \n",
    "    nominal_atts = X.select_dtypes(exclude=np.number)\n",
    "    numeric_atts = X.select_dtypes(include=np.number)\n",
    "    \n",
    "    for r, instance in X.iterrows():\n",
    "        label_probs = []\n",
    "        for label in labels:\n",
    "            label_prob = np.log(prior_probs[label])\n",
    "\n",
    "            for att in nominal_atts:\n",
    "                if instance[att] in conditional_dists[(att, label)]:\n",
    "                    label_prob += np.log(conditional_dists[(att, label)][instance[att]])\n",
    "                else:\n",
    "                    label_prob += np.log(1e-5)\n",
    "                \n",
    "            for att in numeric_atts:\n",
    "                label_prob += np.log(conditional_dists[(att, label)](instance[att]))\n",
    "\n",
    "            label_probs.append(label_prob)\n",
    "\n",
    "        pred_prob.append(max(label_probs))\n",
    "        max_index = np.argmax(label_probs)\n",
    "        y_pred.append(labels[max_index])\n",
    "        \n",
    "    return pred_prob, y_pred"
   ]
  },
  {
   "cell_type": "code",
   "execution_count": 5,
   "metadata": {},
   "outputs": [],
   "source": [
    "# This function should evaliate the prediction performance by comparing your model’s class outputs to ground\n",
    "# truth labels, return and output accuracy, confusion matrix and F1 score.\n",
    "def evaluate(labels, y, y_bar):\n",
    "    tp, fn, fp, tn = confusion_matrix(y, y_bar, labels=labels).ravel()\n",
    "    # print confusion matrix\n",
    "    matrix = np.array([[tp, fn], [fp, tn]])\n",
    "    accuracy = (tp + tn) / sum([tp, fn, fp, tn])\n",
    "    precision = tp / (tp + fp)\n",
    "    recall = tp / (tp + fn)\n",
    "    f1_score = 2 * precision * recall / (precision + recall)\n",
    "    return tp, fn, fp, tn, matrix, accuracy, f1_score"
   ]
  },
  {
   "cell_type": "code",
   "execution_count": 6,
   "metadata": {},
   "outputs": [
    {
     "name": "stdout",
     "output_type": "stream",
     "text": [
      "Confusion matrix: \n",
      " [[63 14]\n",
      " [ 5 18]]\n",
      "Accuracy:  0.81\n",
      "F1 score 0.8689655172413794\n",
      "\n",
      "Attribute vectors of instances [0, 1, 2]: \n",
      "[68 ' ?' ' 1st-4th' 2 ' Divorced' ' ?' ' Not-in-family' ' White' ' Female'\n",
      " 20 ' United-States']\n",
      "[39 ' State-gov' ' Bachelors' 13 ' Never-married' ' Adm-clerical'\n",
      " ' Not-in-family' ' White' ' Male' 40 ' United-States']\n",
      "[50 ' Self-emp-not-inc' ' Bachelors' 13 ' Married-civ-spouse'\n",
      " ' Exec-managerial' ' Husband' ' White' ' Male' 13 ' United-States']\n",
      "\n",
      "Number of instances (N):  1000\n",
      "Number of attributes (F):  11\n",
      "Number of labels (L):  2\n",
      "\n",
      "\n",
      "Predicted class log-probabilities for instance N-3:  -24.39561589571836\n",
      "Predicted class ID for instance N-3:   <=50K\n",
      "\n",
      "Predicted class log-probabilities for instance N-2:  -29.037708296798996\n",
      "Predicted class ID for instance N-2:   >50K\n",
      "\n",
      "Predicted class log-probabilities for instance N-1:  -24.01142860572966\n",
      "Predicted class ID for instance N-1:   >50K\n"
     ]
    }
   ],
   "source": [
    "# This cell should act as your \"main\" function where you call the above functions \n",
    "# on the full ADULT data set, and print the evaluation results. [0.33 marks]\n",
    "\n",
    "# First, read in the data and apply your NB model to the ADULT data\n",
    "labels = [' <=50K', ' >50K']\n",
    "train_df, test_df = preprocess(\"dataset/adult.csv\")\n",
    "prior_probs, conditional_dists = train(train_df, ignore_missing=False)\n",
    "\n",
    "X_test, y_test = test_df.iloc[:,:-1], test_df.iloc[:,-1]\n",
    "pred_prob, y_pred = predict(X_test, labels, prior_probs, conditional_dists)\n",
    "\n",
    "# Second, print the full evaluation results from the evaluate() function\n",
    "tp, fn, fp, tn, matrix, accuracy, f1_score = evaluate(labels, y_test, y_pred)\n",
    "print(\"Confusion matrix: \\n\", matrix)\n",
    "print(\"Accuracy: \", accuracy)\n",
    "print(\"F1 score\", f1_score)\n",
    "\n",
    "# Third, print data statistics and model predictions, as instructed below \n",
    "# N is the total number of instances, F the total number of attributes, L the total number of labels\n",
    "# The \"class probabilities\" may be unnormalized\n",
    "# The \"predicted class ID\" must be in range (0, L)\n",
    "\n",
    "print(\"\\nAttribute vectors of instances [0, 1, 2]: \") # of the first three records in adult.csv\n",
    "for i in range(3):\n",
    "    print(train_df.iloc[i,:-1].values)\n",
    "\n",
    "print(\"\\nNumber of instances (N): \", len(train_df) + len(test_df))\n",
    "print(\"Number of attributes (F): \", len(X_test.iloc[0]))\n",
    "print(\"Number of labels (L): \", len(labels))\n",
    "\n",
    "# print out the prediction results of the last three instances\n",
    "print(\"\\n\\nPredicted class log-probabilities for instance N-3: \", pred_prob[-3])\n",
    "print(\"Predicted class ID for instance N-3: \", y_pred[-3])\n",
    "print(\"\\nPredicted class log-probabilities for instance N-2: \", pred_prob[-2])\n",
    "print(\"Predicted class ID for instance N-2: \", y_pred[-2])\n",
    "print(\"\\nPredicted class log-probabilities for instance N-1: \", pred_prob[-1])\n",
    "print(\"Predicted class ID for instance N-1: \", y_pred[-1])\n"
   ]
  },
  {
   "cell_type": "markdown",
   "metadata": {},
   "source": [
    "## Part 2: Conceptual questions [8 marks for groups of 1] / [16 marks for groups of 2]\n",
    "\n",
    "\n",
    "If you are in a group of 1, you should respond to Q1 and Q2.\n",
    "\n",
    "If you are in a group of 2, you should respond to Q1, Q2, Q3 and Q4.\n",
    "\n",
    "A response to a question should take about 100–250 words. You may need to develope codes or functions to help respond to the question here. \n",
    "\n",
    "#### NOTE: We strongly recommend <u>including figures or tables, etc.</u> to support your responses. The figures and tables inserted in Markdown cells must be reproducable by your code."
   ]
  },
  {
   "cell_type": "markdown",
   "metadata": {},
   "source": [
    "### Q1 [4 marks]\n",
    "<u>Sensitivity</u> and <u>specificity</u> are two model evaluation metrics.  A good model should have both sensitivity and specificity high. Use the $2 \\times 2$ confusion matrix returned by `evaluate()` to calculate the sensitivity and specificity. Do you see a difference between them? If so, what causes this difference? Provide suggestions to improve the model performance. "
   ]
  },
  {
   "cell_type": "code",
   "execution_count": 7,
   "metadata": {},
   "outputs": [
    {
     "name": "stdout",
     "output_type": "stream",
     "text": [
      "0.8181818181818182 0.782608695652174\n"
     ]
    }
   ],
   "source": [
    "sensitivity = tp / (tp + fn)\n",
    "specificity = tn / (tn + fp)\n",
    "print(sensitivity, specificity)"
   ]
  },
  {
   "cell_type": "markdown",
   "metadata": {},
   "source": [
    "Provide your text answer of 150-200 words in this cell.\n",
    "the proportion of classes is not identical in the training vs testing set\n",
    "Sensitivity is the proportion of true positive <=50K instances the model detected; on the other hand, specificity is the proportion of true negative >50K instances the model detected. The difference is that sensitivity is greater than specificity, this could be due to more <=50K instances than >50K instances in the training dataset. To improve the model performance, we can to construct a more balanced training dataset or sample weights or data augmentation."
   ]
  },
  {
   "cell_type": "markdown",
   "metadata": {},
   "source": [
    "### Q2 [4 marks]\n",
    "You can adopt different methods for training and/or testing, which will produce different results in model evaluation. \n",
    "\n",
    "(a) Instead of Gaussian, <u>implement KDE</u> for  $P(X_i|c_j)$ for numeric attributes $X_i$. Compare the evaluation results with Gaussian. Which one do you think is more suitable to model $P(X_i|c_j)$, Gaussian or KDE? Observe all numeric attributes and justify your answer.\n",
    "\n",
    "You can choose an arbitrary value for kernel bandwidth $\\sigma$ for KDE, but a value between 3 and 15 is recommended. You should write code to implement KDE, not call an existing function/method such as `KernelDensity` from `scikit-learn`.\n",
    "\n",
    "(b) Implement <u>10-fold and 2-fold cross-validations</u>.  \n",
    "\tObserve the evaluation results in each fold and the average accuracy, recall and specificity over all folds. \n",
    "\tComment on what is the effect by changing the values of $m$ in $m$-fold cross validation. (You can choose either Gaussian or KDE Naive Bayes.)"
   ]
  },
  {
   "cell_type": "code",
   "execution_count": 8,
   "metadata": {},
   "outputs": [
    {
     "name": "stdout",
     "output_type": "stream",
     "text": [
      "10-Fold CV: Accuracy: 0.789, Sensitivity: 0.8191564677090193, Specificity: 0.6926109856327247\n",
      "2-Fold CV: Accuracy: 0.798, Sensitivity: 0.8350041262497125, Specificity: 0.6767661616919154\n"
     ]
    }
   ],
   "source": [
    "# implement kde for numeric attributes\n",
    "\n",
    "\n",
    "# implement m-fold cross validation\n",
    "def cross_validate(df, m):\n",
    "    splits = np.array_split(df, m)\n",
    "    cv_results = []\n",
    "    for i in range(m):\n",
    "        # train\n",
    "        train_df = pd.concat(splits[:i] + splits[i+1:])\n",
    "        prior_probs, conditional_dists = train(train_df, ignore_missing=False)\n",
    "\n",
    "        # test\n",
    "        test_df = splits[i]\n",
    "        X_test, y_test = test_df.iloc[:,:-1], test_df.iloc[:,-1]\n",
    "        pred_prob, y_pred = predict(X_test, labels, prior_probs, conditional_dists)\n",
    "\n",
    "        # evaluate\n",
    "        tp, fn, fp, tn, _, accuracy, _ = evaluate(labels, y_test, y_pred)\n",
    "        sensitivity = tp / (tp + fn)\n",
    "        specificity = tn / (tn + fp)\n",
    "        cv_results.append((accuracy, sensitivity, specificity))\n",
    "    return np.mean(cv_results, axis=0)\n",
    "\n",
    "df = pd.read_csv(\"dataset/adult.csv\")\n",
    "cv10_result = cross_validate(df, 10)\n",
    "print(\"10-Fold CV: Accuracy: {}, Sensitivity: {}, Specificity: {}\".format(cv10_result[0], cv10_result[1], cv10_result[2]))\n",
    "cv2_result = cross_validate(df, 2)\n",
    "print(\"2-Fold CV: Accuracy: {}, Sensitivity: {}, Specificity: {}\".format(cv2_result[0], cv2_result[1], cv2_result[2]))"
   ]
  },
  {
   "cell_type": "code",
   "execution_count": 13,
   "metadata": {},
   "outputs": [
    {
     "data": {
      "image/png": "[encoded data removed]",
      "text/plain": [
       "<Figure size 432x288 with 1 Axes>"
      ]
     },
     "metadata": {
      "needs_background": "light"
     },
     "output_type": "display_data"
    }
   ],
   "source": [
    "results = []\n",
    "for m in range(5,50,10):\n",
    "    results.append(cross_validate(df, m))\n",
    "\n",
    "results = np.array(results)\n",
    "plt.plot(range(5,50,10), results[:,0], label=\"accuracy\")\n",
    "plt.plot(range(5,50,10), results[:,1], label=\"sensitivity\")\n",
    "plt.plot(range(5,50,10), results[:,2], label=\"specificity\")\n",
    "plt.legend()\n",
    "plt.show()"
   ]
  },
  {
   "cell_type": "markdown",
   "metadata": {
    "jupyter": {
     "outputs_hidden": true
    }
   },
   "source": [
    "Provide your text answer of 150-200 words in this cell.\n",
    "\n",
    "(a) Judging from their distributions, KDE should fit all numerical data better; however, the choice of band width is important.\n",
    "(not verified) KDE may lead to overfitting (generalise less well on new/test data).\n",
    "\n",
    "(b) Increasing the value of m in m-fold cross validation means a larger training dataset and a smaller testing dataset in each iteration. observation ..."
   ]
  },
  {
   "cell_type": "markdown",
   "metadata": {},
   "source": [
    "### Q3 [4 marks]\n",
    "In `train()`, you are asked to treat the missing value of nominal attributes as a new category. There is another option (as suggested in Thu lecture in week 2): <u>ignoring the missing values</u>. \n",
    "Compare the two methods in both large and small datasets. Comment and explain your observations.\n",
    "You can extract the first 50 records to construct a small dataset.Use Gaussian Naive Bayes only for this question."
   ]
  },
  {
   "cell_type": "code",
   "execution_count": 10,
   "metadata": {},
   "outputs": [
    {
     "data": {
      "text/plain": [
       "[]"
      ]
     },
     "execution_count": 10,
     "metadata": {},
     "output_type": "execute_result"
    },
    {
     "data": {
      "image/png": "[encoded data removed]",
      "text/plain": [
       "<Figure size 432x288 with 1 Axes>"
      ]
     },
     "metadata": {
      "needs_background": "light"
     },
     "output_type": "display_data"
    }
   ],
   "source": [
    "# compare the methods in different size datasets\n",
    "def train_test_evaluate(df_size):\n",
    "    sub_df = df.iloc[:df_size,:]\n",
    "    train_df, test_df = train_test_split(sub_df, test_size=0.1, shuffle=False)\n",
    "    # method 1 = treat the missing values as a new category\n",
    "    # method 2 = ignore the missing values\n",
    "    results = []\n",
    "    for ignore_missing in [False, True]:\n",
    "        prior_probs, conditional_dists = train(train_df, ignore_missing)\n",
    "        X_test, y_test = test_df.iloc[:,:-1], test_df.iloc[:,-1]\n",
    "        pred_prob, y_pred = predict(X_test, labels, prior_probs, conditional_dists)\n",
    "        tp, fn, fp, tn, _, accuracy, _ = evaluate(labels, y_test, y_pred)\n",
    "        results.append(accuracy)\n",
    "    return results\n",
    "\n",
    "results = []\n",
    "for df_size in range(50, 1001, 100):\n",
    "    results.append(train_test_evaluate(df_size))\n",
    "results = np.array(results)\n",
    "plt.plot(range(50, 1001, 100), results[:,0], label=\"treat as new category\")\n",
    "plt.plot(range(50, 1001, 100), results[:,1], label=\"ignore missing values\")\n",
    "plt.legend()\n",
    "plt.plot()\n"
   ]
  },
  {
   "cell_type": "markdown",
   "metadata": {},
   "source": [
    "Provide your text answer of 150-200 words in this cell.\n",
    "Let method1 = treat as new category and method2 = ignore missing values. There appears to be not much difference between method1 and method2 in smaller datasets with <500 instances, but method1 performs better compared to method2 in larger datasets with >=500 instances. This could be due to the nominal attributes missing not at random. So, while method1 includes the informative missing data, method2 completely ignore them. guess = ignore missing values works better for small datasets -> reason ?"
   ]
  },
  {
   "cell_type": "markdown",
   "metadata": {},
   "source": [
    "### Q4 [4 marks]\n",
    "In week 4, we have learned how to obtain information gain (IG) and gain ratio (GR) to choose an attribute to split a node in a decision tree. We will see how to apply them in the Naive Bayes classification.\n",
    "\n",
    "(a) Compute the GR of each attribute $X_i$, relative to the class distribution. In the Na\\\"ive Bayes classifier, remove attributes in the ascending order of GR: first, remove $P(X_i|c_j)$ such that $X_i$ has the least GR; second, remove $P(X_{i'}|c_j)$ such that $X_{i'}$ has the second least GR,......, until there is only one $X_{i*}$ with the largest GR remaining in the maximand $P(c_j) P(X_{i^*} | c_j)$. Observe the <u>change of the accuracy for both Gaussian and KDE</u> (Choose bandwidth $\\sigma=10$ for KDE).\n",
    "\n",
    "(b) Compute the IG between each pair of attributes. Describe and explain your observations. Choose an attribute and implement an estimator to predict the value of `education num`. Explain why you choose this attribute. Enumerate two other examples that an attribute can be used to estimate the other and explain the reason.  "
   ]
  },
  {
   "cell_type": "code",
   "execution_count": null,
   "metadata": {},
   "outputs": [],
   "source": [
    "# Write additional code here, if necessary (you may insert additional code cells)"
   ]
  },
  {
   "cell_type": "markdown",
   "metadata": {},
   "source": [
    "### (a)"
   ]
  },
  {
   "cell_type": "code",
   "execution_count": 25,
   "metadata": {},
   "outputs": [
    {
     "name": "stdout",
     "output_type": "stream",
     "text": [
      "Gain Ratios: \n",
      "GR(age) = 0.026697660320668348\n",
      "GR(work class) = 0.018141905518298508\n",
      "GR(education) = 0.0390446720426429\n",
      "GR(education num) = 0.0390446720426429\n",
      "GR(marital status) = 0.08326589111992261\n",
      "GR(occupation) = 0.029539199872951637\n",
      "GR(relationship) = 0.07052569835807494\n",
      "GR(race) = 0.020525140518530615\n",
      "GR(sex) = 0.02698113630934037\n",
      "GR(hours per week) = 0.029488131640638304\n",
      "GR(native country (region)) = 0.03746449095021427\n"
     ]
    }
   ],
   "source": [
    "# entropy before splitting\n",
    "probs_before = df['label'].value_counts(normalize=True)\n",
    "entropy_before = -1 * np.sum(probs_before * np.log2(probs_before))\n",
    "\n",
    "# mean info and split info for each attribute\n",
    "attributes = df.columns[:-1]\n",
    "mean_infos = []\n",
    "split_infos = []\n",
    "for attribute in attributes:\n",
    "    mean_info = 0\n",
    "    split_info = 0\n",
    "    for x, x_df in df.groupby(attribute):\n",
    "        x_weight = len(x_df) / len(df)\n",
    "        x_probs = x_df['label'].value_counts(normalize=True)\n",
    "        x_entropy = -1 * np.sum(x_probs * np.log2(x_probs))\n",
    "        mean_info += x_weight * x_entropy\n",
    "        split_info += -1 * x_weight * np.log2(x_weight)\n",
    "    mean_infos.append(mean_info)\n",
    "    split_infos.append(split_info)\n",
    "\n",
    "# information gain\n",
    "info_gains = [entropy_before - mean_info for mean_info in mean_infos]\n",
    "# gain ratio\n",
    "gain_ratios = [info_gain / split_info for info_gain, split_info in zip(info_gains, split_infos)]\n",
    "for attribute, gain_ratio in zip(attributes, gain_ratios):\n",
    "    print(\"GR({}) = {}\".format(attribute, gain_ratio))"
   ]
  },
  {
   "cell_type": "markdown",
   "metadata": {},
   "source": [
    "Provide your text answer to **Question 4.a** of 100-150 words in this cell."
   ]
  },
  {
   "cell_type": "markdown",
   "metadata": {},
   "source": [
    "### (b)"
   ]
  },
  {
   "cell_type": "code",
   "execution_count": null,
   "metadata": {},
   "outputs": [],
   "source": [
    "# information gain\n"
   ]
  },
  {
   "cell_type": "markdown",
   "metadata": {},
   "source": [
    "Provide your text answer to **Question 4.b** of 150-200 words in this cell."
   ]
  },
  {
   "cell_type": "markdown",
   "metadata": {},
   "source": [
    "<b>Authorship Declaration</b>:\n",
    "\n",
    "   (1) I certify that the program contained in this submission is completely\n",
    "   my own individual work, except where explicitly noted by comments that\n",
    "   provide details otherwise.  I understand that work that has been developed\n",
    "   by another student, or by me in collaboration with other students,\n",
    "   or by non-students as a result of request, solicitation, or payment,\n",
    "   may not be submitted for assessment in this subject.  I understand that\n",
    "   submitting for assessment work developed by or in collaboration with\n",
    "   other students or non-students constitutes Academic Misconduct, and\n",
    "   may be penalized by mark deductions, or by other penalties determined\n",
    "   via the University of Melbourne Academic Honesty Policy, as described\n",
    "   at https://academicintegrity.unimelb.edu.au.\n",
    "\n",
    "   (2) I also certify that I have not provided a copy of this work in either\n",
    "   softcopy or hardcopy or any other form to any other student, and nor will\n",
    "   I do so until after the marks are released. I understand that providing\n",
    "   my work to other students, regardless of my intention or any undertakings\n",
    "   made to me by that other student, is also Academic Misconduct.\n",
    "\n",
    "   (3) I further understand that providing a copy of the assignment\n",
    "   specification to any form of code authoring or assignment tutoring\n",
    "   service, or drawing the attention of others to such services and code\n",
    "   that may have been made available via such a service, may be regarded\n",
    "   as Student General Misconduct (interfering with the teaching activities\n",
    "   of the University and/or inciting others to commit Academic Misconduct).\n",
    "   I understand that an allegation of Student General Misconduct may arise\n",
    "   regardless of whether or not I personally make use of such solutions\n",
    "   or sought benefit from such actions.\n",
    "\n",
    "   <b>Signed by</b>: Beijia Rebecca Lai 1133768\n",
    "   \n",
    "   <b>Dated</b>: 30/03/2022"
   ]
  }
 ],
 "metadata": {
  "kernelspec": {
   "display_name": "Python 3 (ipykernel)",
   "language": "python",
   "name": "python3"
  },
  "language_info": {
   "codemirror_mode": {
    "name": "ipython",
    "version": 3
   },
   "file_extension": ".py",
   "mimetype": "text/x-python",
   "name": "python",
   "nbconvert_exporter": "python",
   "pygments_lexer": "ipython3",
   "version": "3.8.12"
  }
 },
 "nbformat": 4,
 "nbformat_minor": 4
}
